{
 "cells": [
  {
   "cell_type": "code",
   "execution_count": 5,
   "id": "8e76d4e4",
   "metadata": {},
   "outputs": [
    {
     "name": "stdout",
     "output_type": "stream",
     "text": [
      "                      *    \n",
      "                 *    *    \n",
      "            *    *    *    \n",
      "       *    *    *    *    \n",
      "  *    *    *    *    *    \n"
     ]
    }
   ],
   "source": [
    "rows = 5\n",
    "\n",
    "\n",
    "spaces = 22\n",
    "\n",
    "\n",
    "for i in range(rows):\n",
    "\n",
    "    print(\" \" * spaces, end=\"\")\n",
    "   \n",
    "    for j in range(i + 1):\n",
    "        print(\"*\", end=\"    \")\n",
    "    print()\n",
    "    spaces -= 5"
   ]
  },
  {
   "cell_type": "code",
   "execution_count": 4,
   "id": "45be2531",
   "metadata": {},
   "outputs": [
    {
     "name": "stdout",
     "output_type": "stream",
     "text": [
      "Enter the first number: 20\n",
      "Enter the second number: 25\n",
      "The result of 20.0 divided by 25.0 is 0.8\n"
     ]
    }
   ],
   "source": [
    "def get_number(prompt):\n",
    "    while True:\n",
    "        try:\n",
    "            number = float(input(prompt))\n",
    "            return number\n",
    "        except ValueError:\n",
    "            print(\"Invald input. Please enter a valid number.\")\n",
    "\n",
    "def divide_numbers():\n",
    "    while True:\n",
    "        try:\n",
    "            num1 = get_number(\"Enter the first number: \")\n",
    "            num2 = get_number(\"Enter the second number: \")\n",
    "            result = num1 / num2\n",
    "            print(f\"The result of {num1} divided by {num2} is {result}\")\n",
    "            break\n",
    "        except ZeroDivisionError:\n",
    "            print(\"Division by zero is not allowed. Please enter a non-zero second number.\")\n",
    "\n",
    "if __name__ == \"__main__\":\n",
    "    divide_numbers()\n",
    "        "
   ]
  },
  {
   "cell_type": "code",
   "execution_count": null,
   "id": "d0e653f4",
   "metadata": {},
   "outputs": [],
   "source": [
    "\n"
   ]
  },
  {
   "cell_type": "code",
   "execution_count": null,
   "id": "0f90284e",
   "metadata": {},
   "outputs": [],
   "source": []
  },
  {
   "cell_type": "code",
   "execution_count": null,
   "id": "a5183b74",
   "metadata": {},
   "outputs": [],
   "source": []
  }
 ],
 "metadata": {
  "kernelspec": {
   "display_name": "Python 3 (ipykernel)",
   "language": "python",
   "name": "python3"
  },
  "language_info": {
   "codemirror_mode": {
    "name": "ipython",
    "version": 3
   },
   "file_extension": ".py",
   "mimetype": "text/x-python",
   "name": "python",
   "nbconvert_exporter": "python",
   "pygments_lexer": "ipython3",
   "version": "3.9.12"
  }
 },
 "nbformat": 4,
 "nbformat_minor": 5
}
